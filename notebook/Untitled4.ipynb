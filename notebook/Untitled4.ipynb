{
 "cells": [
  {
   "cell_type": "code",
   "execution_count": 1,
   "metadata": {
    "collapsed": true
   },
   "outputs": [],
   "source": [
    "%matplotlib inline\n",
    "%config InlineBackend.figure_format = 'retina'\n",
    "import numpy as np"
   ]
  },
  {
   "cell_type": "code",
   "execution_count": 10,
   "metadata": {},
   "outputs": [
    {
     "ename": "RuntimeError",
     "evalue": "module compiled against API version 0xb but this version of numpy is 0xa",
     "output_type": "error",
     "traceback": [
      "\u001b[0;31m---------------------------------------------------------------------------\u001b[0m",
      "\u001b[0;31mRuntimeError\u001b[0m                              Traceback (most recent call last)",
      "\u001b[0;31mRuntimeError\u001b[0m: module compiled against API version 0xb but this version of numpy is 0xa"
     ]
    }
   ],
   "source": [
    "from nbodykit.lab import *\n",
    "from nbodykit import setup_logging, style\n",
    "\n",
    "import matplotlib.pyplot as plt\n",
    "plt.style.use(style.notebook)"
   ]
  },
  {
   "cell_type": "code",
   "execution_count": 11,
   "metadata": {
    "collapsed": true
   },
   "outputs": [],
   "source": [
    "\n",
    "setup_logging()"
   ]
  },
  {
   "cell_type": "code",
   "execution_count": 12,
   "metadata": {},
   "outputs": [
    {
     "name": "stderr",
     "output_type": "stream",
     "text": [
      "[ 000005.84 ]   0: 03-05 17:19  CatalogSource   INFO     Extra arguments to FileType: ()\n"
     ]
    }
   ],
   "source": [
    "cat = CSVCatalog(path=\"../pair_simulation/HaloCatalogs/Halo_z0.0_0001/catalog_z0.0_0001.txt\", names=[\"x\",\"y\",\"z\",\"vx\",\"vy\",\"vz\",\"M\"])"
   ]
  },
  {
   "cell_type": "code",
   "execution_count": 13,
   "metadata": {
    "collapsed": true
   },
   "outputs": [],
   "source": [
    "import dask.array as da\n",
    "cat['position']=da.stack([cat['x'],cat['y'],cat['z']]).T"
   ]
  },
  {
   "cell_type": "code",
   "execution_count": 14,
   "metadata": {},
   "outputs": [],
   "source": [
    "cat = cat[cat['x']>10]"
   ]
  },
  {
   "cell_type": "code",
   "execution_count": null,
   "metadata": {
    "collapsed": true
   },
   "outputs": [],
   "source": [
    "mesh = cat.to_mesh(window='cic', Nmesh=512, compensated=True,BoxSize=1500,position='position')"
   ]
  },
  {
   "cell_type": "code",
   "execution_count": null,
   "metadata": {},
   "outputs": [],
   "source": [
    "# compute the power, specifying desired linear k-binning\n",
    "r = FFTPower(mesh, mode='1d', dk=0.005, kmin=0.01)"
   ]
  },
  {
   "cell_type": "code",
   "execution_count": null,
   "metadata": {
    "scrolled": true
   },
   "outputs": [],
   "source": [
    "Pk = r.power\n",
    "print(Pk)"
   ]
  },
  {
   "cell_type": "markdown",
   "metadata": {},
   "source": [
    "## Albert"
   ]
  },
  {
   "cell_type": "code",
   "execution_count": null,
   "metadata": {
    "collapsed": true
   },
   "outputs": [],
   "source": [
    "data = np.loadtxt(\"../pair_simulation/powerspec_Albert/pk_size_1p5_re1024/pk_box_0001.pk.CICassign.mono\")"
   ]
  },
  {
   "cell_type": "code",
   "execution_count": null,
   "metadata": {
    "collapsed": true
   },
   "outputs": [],
   "source": [
    "# print the shot noise subtracted P(k)\n",
    "plt.loglog(Pk['k'], Pk['power'].real - Pk.attrs['shotnoise'],label=\"Nbody-kit\")\n",
    "plt.loglog(data[:,0],data[:,1],\".\",label=\"Albert\")\n",
    "plt.legend()\n",
    "# format the axes\n",
    "plt.xlabel(r\"$k$ [$h \\ \\mathrm{Mpc}^{-1}$]\")\n",
    "plt.ylabel(r\"$P(k)$ [$h^{-3}\\mathrm{Mpc}^3$]\")\n",
    "plt.xlim(0.01, 0.6)\n",
    "plt.ylim(1E3,1E5)"
   ]
  },
  {
   "cell_type": "code",
   "execution_count": 3,
   "metadata": {
    "collapsed": true
   },
   "outputs": [],
   "source": [
    "def makejack(boxsizes, number_of_jack):\n",
    "    lengthx = float(boxsizes[0])/number_of_jack\n",
    "    lengthy = float(boxsizes[1])/number_of_jack\n",
    "    lengthz = float(boxsizes[2])/number_of_jack\n",
    "    rangeList=[]\n",
    "    for idx in range(number_of_jack):\n",
    "        print(idx)\n",
    "        for idy in range(number_of_jack):\n",
    "            for idz in range(number_of_jack):\n",
    "                rangex = [idx*lengthx, (idx+1)*lengthx]\n",
    "                rangey = [idy*lengthz, (idy+1)*lengthy]\n",
    "                rangez = [idz*lengthz, (idz+1)*lengthz]\n",
    "                rangeList.append([rangex,rangey,rangez])\n",
    "    return rangeList"
   ]
  },
  {
   "cell_type": "code",
   "execution_count": 4,
   "metadata": {},
   "outputs": [
    {
     "name": "stdout",
     "output_type": "stream",
     "text": [
      "0\n",
      "1\n",
      "2\n",
      "3\n",
      "4\n",
      "5\n",
      "6\n",
      "7\n",
      "8\n",
      "9\n"
     ]
    }
   ],
   "source": [
    "jackList = makejack([1500,1500,1500], 10)\n",
    "jackList = np.array(jackList)"
   ]
  },
  {
   "cell_type": "code",
   "execution_count": null,
   "metadata": {
    "collapsed": true
   },
   "outputs": [],
   "source": [
    "jackList = np.array(jackList)"
   ]
  },
  {
   "cell_type": "code",
   "execution_count": 9,
   "metadata": {},
   "outputs": [
    {
     "data": {
      "text/plain": [
       "(1000, 3, 2)"
      ]
     },
     "execution_count": 9,
     "metadata": {},
     "output_type": "execute_result"
    }
   ],
   "source": [
    "jackList.shape"
   ]
  },
  {
   "cell_type": "code",
   "execution_count": null,
   "metadata": {
    "collapsed": true
   },
   "outputs": [],
   "source": []
  }
 ],
 "metadata": {
  "kernelspec": {
   "display_name": "Python 2",
   "language": "python",
   "name": "python2"
  },
  "language_info": {
   "codemirror_mode": {
    "name": "ipython",
    "version": 2
   },
   "file_extension": ".py",
   "mimetype": "text/x-python",
   "name": "python",
   "nbconvert_exporter": "python",
   "pygments_lexer": "ipython2",
   "version": "2.7.14"
  }
 },
 "nbformat": 4,
 "nbformat_minor": 2
}
